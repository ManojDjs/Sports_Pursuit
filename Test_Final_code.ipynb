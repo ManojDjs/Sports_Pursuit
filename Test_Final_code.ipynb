{
 "cells": [
  {
   "cell_type": "code",
   "execution_count": 2,
   "metadata": {},
   "outputs": [
    {
     "name": "stderr",
     "output_type": "stream",
     "text": [
      "test_calculate_Journy_Time (__main__.TestStringMethods) ... ok\n",
      "test_calculate_individual_bike_journey (__main__.TestStringMethods) ... ok\n",
      "test_individual_bike_sort (__main__.TestStringMethods) ... "
     ]
    },
    {
     "name": "stdout",
     "output_type": "stream",
     "text": [
      "06:30:58\n",
      "06:30:58\n"
     ]
    },
    {
     "name": "stderr",
     "output_type": "stream",
     "text": [
      "ok\n",
      "\n",
      "----------------------------------------------------------------------\n",
      "Ran 3 tests in 0.057s\n",
      "\n",
      "OK\n"
     ]
    },
    {
     "data": {
      "text/plain": [
       "<unittest.main.TestProgram at 0x22188d8c320>"
      ]
     },
     "execution_count": 2,
     "metadata": {},
     "output_type": "execute_result"
    }
   ],
   "source": [
    "import unittest\n",
    "import datetime\n",
    "import pandas as pd\n",
    "from Final_code_SP import Reporting_Period\n",
    "col_names=['stationID','bikeID','ArrTime','DepTime']\n",
    "bikedata = pd.read_csv('data.csv', names=col_names, header=None)\n",
    "bikedata\n",
    "class TestStringMethods(unittest.TestCase):\n",
    "    def test_individual_bike_sort(self):\n",
    "        new=Reporting_Period(bikedata)\n",
    "        value=new.individual_bike_sort()\n",
    "        self.assertEqual(type(value),type(pd.Timedelta(\"1 days 00:00:00\")))\n",
    "    def test_calculate_Journy_Time(self):\n",
    "        new=Reporting_Period(bikedata)\n",
    "        value=new.individual_bike_sort()\n",
    "        format=new.calculate_Journy_Time(value)\n",
    "        self.assertEqual(type(format),str)\n",
    "\n",
    "    def test_calculate_individual_bike_journey(self):\n",
    "        new = Reporting_Period(bikedata)\n",
    "        value = new.calculate_individual_bike_journey(44)\n",
    "        self.assertEqual(type(value), type(pd.Timedelta(\"1 days 00:00:00\")))\n",
    "\n",
    "unittest.main(argv=[''], verbosity=2, exit=False)"
   ]
  },
  {
   "cell_type": "code",
   "execution_count": null,
   "metadata": {},
   "outputs": [],
   "source": []
  }
 ],
 "metadata": {
  "kernelspec": {
   "display_name": "Python 3",
   "language": "python",
   "name": "python3"
  }
 },
 "nbformat": 4,
 "nbformat_minor": 2
}
